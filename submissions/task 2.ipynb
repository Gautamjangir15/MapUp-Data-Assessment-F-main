{
 "cells": [
  {
   "cell_type": "code",
   "execution_count": 1,
   "id": "503c4c82",
   "metadata": {},
   "outputs": [],
   "source": [
    "import pandas as pd"
   ]
  },
  {
   "cell_type": "code",
   "execution_count": 2,
   "id": "fb39e19a",
   "metadata": {},
   "outputs": [],
   "source": [
    "data3_path=r\"C:\\Users\\gauta\\OneDrive\\Desktop\\Untitled Folder\\MapUp-Data-Assessment-F-main\\datasets\\dataset-3.csv\""
   ]
  },
  {
   "cell_type": "code",
   "execution_count": 23,
   "id": "2e0da6eb",
   "metadata": {},
   "outputs": [],
   "source": [
    "data2=pd.read_csv(r\"C:\\Users\\gauta\\OneDrive\\Desktop\\Untitled Folder\\MapUp-Data-Assessment-F-main\\datasets\\dataset-3.csv\")"
   ]
  },
  {
   "cell_type": "code",
   "execution_count": 3,
   "id": "5e791e4d",
   "metadata": {},
   "outputs": [
    {
     "data": {
      "text/html": [
       "<div>\n",
       "<style scoped>\n",
       "    .dataframe tbody tr th:only-of-type {\n",
       "        vertical-align: middle;\n",
       "    }\n",
       "\n",
       "    .dataframe tbody tr th {\n",
       "        vertical-align: top;\n",
       "    }\n",
       "\n",
       "    .dataframe thead th {\n",
       "        text-align: right;\n",
       "    }\n",
       "</style>\n",
       "<table border=\"1\" class=\"dataframe\">\n",
       "  <thead>\n",
       "    <tr style=\"text-align: right;\">\n",
       "      <th></th>\n",
       "      <th>id_start</th>\n",
       "      <th>id_end</th>\n",
       "      <th>distance</th>\n",
       "    </tr>\n",
       "  </thead>\n",
       "  <tbody>\n",
       "    <tr>\n",
       "      <th>0</th>\n",
       "      <td>1001400</td>\n",
       "      <td>1001402</td>\n",
       "      <td>9.7</td>\n",
       "    </tr>\n",
       "    <tr>\n",
       "      <th>1</th>\n",
       "      <td>1001402</td>\n",
       "      <td>1001404</td>\n",
       "      <td>20.2</td>\n",
       "    </tr>\n",
       "    <tr>\n",
       "      <th>2</th>\n",
       "      <td>1001404</td>\n",
       "      <td>1001406</td>\n",
       "      <td>16.0</td>\n",
       "    </tr>\n",
       "    <tr>\n",
       "      <th>3</th>\n",
       "      <td>1001406</td>\n",
       "      <td>1001408</td>\n",
       "      <td>21.7</td>\n",
       "    </tr>\n",
       "    <tr>\n",
       "      <th>4</th>\n",
       "      <td>1001408</td>\n",
       "      <td>1001410</td>\n",
       "      <td>11.1</td>\n",
       "    </tr>\n",
       "  </tbody>\n",
       "</table>\n",
       "</div>"
      ],
      "text/plain": [
       "   id_start   id_end  distance\n",
       "0   1001400  1001402       9.7\n",
       "1   1001402  1001404      20.2\n",
       "2   1001404  1001406      16.0\n",
       "3   1001406  1001408      21.7\n",
       "4   1001408  1001410      11.1"
      ]
     },
     "execution_count": 3,
     "metadata": {},
     "output_type": "execute_result"
    }
   ],
   "source": [
    "data3=pd.read_csv(data3_path)\n",
    "data3.head()"
   ]
  },
  {
   "cell_type": "code",
   "execution_count": 8,
   "id": "cc2faed5",
   "metadata": {},
   "outputs": [],
   "source": [
    "def calculate_distance_matrix(df)->pd.DataFrame:\n",
    "    #Create a pivot table to represent distances between toll locations\n",
    "    pivot_df = df.pivot(index='id_start', columns='id_end', values='distance').fillna(0)\n",
    "\n",
    "    #Convert pivot table to DataFrame and ensure symmetry by adding transposed matrix\n",
    "    df = pivot_df.add(pivot_df.T, fill_value=0)\n",
    "\n",
    "    # Set diagonal values to 0\n",
    "    for col in df.columns:\n",
    "        df.loc[col, col] = 0\n",
    "\n",
    "    return df\n"
   ]
  },
  {
   "cell_type": "code",
   "execution_count": 9,
   "id": "17877057",
   "metadata": {},
   "outputs": [
    {
     "name": "stdout",
     "output_type": "stream",
     "text": [
      "         1001400  1001402  1001404  1001406  1001408  1001410  1001412  \\\n",
      "1001400      0.0      9.7      0.0      0.0      0.0      0.0      0.0   \n",
      "1001402      9.7      0.0     20.2      0.0      0.0      0.0      0.0   \n",
      "1001404      0.0     20.2      0.0     16.0      0.0      0.0      0.0   \n",
      "1001406      0.0      0.0     16.0      0.0     21.7      0.0      0.0   \n",
      "1001408      0.0      0.0      0.0     21.7      0.0     11.1      0.0   \n",
      "1001410      0.0      0.0      0.0      0.0     11.1      0.0     15.6   \n",
      "1001412      0.0      0.0      0.0      0.0      0.0     15.6      0.0   \n",
      "1001414      0.0      0.0      0.0      0.0      0.0      0.0     18.2   \n",
      "1001416      0.0      0.0      0.0      0.0      0.0      0.0      0.0   \n",
      "1001418      0.0      0.0      0.0      0.0      0.0      0.0      0.0   \n",
      "1001420      0.0      0.0      0.0      0.0      0.0      0.0      0.0   \n",
      "1001422      0.0      0.0      0.0      0.0      0.0      0.0      0.0   \n",
      "1001424      0.0      0.0      0.0      0.0      0.0      0.0      0.0   \n",
      "1001426      0.0      0.0      0.0      0.0      0.0      0.0      0.0   \n",
      "1001428      0.0      0.0      0.0      0.0      0.0      0.0      0.0   \n",
      "1001430      0.0      0.0      0.0      0.0      0.0      0.0      0.0   \n",
      "1001432      0.0      0.0      0.0      0.0      0.0      0.0      0.0   \n",
      "1001434      0.0      0.0      0.0      0.0      0.0      0.0      0.0   \n",
      "1001436      0.0      0.0      0.0      0.0      0.0      0.0      0.0   \n",
      "1001437      0.0      0.0      0.0      0.0      0.0      0.0      0.0   \n",
      "1001438      0.0      0.0      0.0      0.0      0.0      0.0      0.0   \n",
      "1001440      0.0      0.0      0.0      0.0      0.0      0.0      0.0   \n",
      "1001442      0.0      0.0      0.0      0.0      0.0      0.0      0.0   \n",
      "1001444      0.0      0.0      0.0      0.0      0.0      0.0      0.0   \n",
      "1001446      0.0      0.0      0.0      0.0      0.0      0.0      0.0   \n",
      "1001448      0.0      0.0      0.0      0.0      0.0      0.0      0.0   \n",
      "1001450      0.0      0.0      0.0      0.0      0.0      0.0      0.0   \n",
      "1001452      0.0      0.0      0.0      0.0      0.0      0.0      0.0   \n",
      "1001454      0.0      0.0      0.0      0.0      0.0      0.0      0.0   \n",
      "1001456      0.0      0.0      0.0      0.0      0.0      0.0      0.0   \n",
      "1001458      0.0      0.0      0.0      0.0      0.0      0.0      0.0   \n",
      "1001460      0.0      0.0      0.0      0.0      0.0      0.0      0.0   \n",
      "1001461      0.0      0.0      0.0      0.0      0.0      0.0      0.0   \n",
      "1001462      0.0      0.0      0.0      0.0      0.0      0.0      0.0   \n",
      "1001464      0.0      0.0      0.0      0.0      0.0      0.0      0.0   \n",
      "1001466      0.0      0.0      0.0      0.0      0.0      0.0      0.0   \n",
      "1001468      0.0      0.0      0.0      0.0      0.0      0.0      0.0   \n",
      "1001470      0.0      0.0      0.0      0.0      0.0      0.0      0.0   \n",
      "1001472      0.0      0.0      0.0      0.0      0.0      0.0      0.0   \n",
      "1001488      0.0      0.0      0.0      0.0      0.0      0.0      0.0   \n",
      "1004354      0.0      0.0      0.0      0.0      0.0      0.0      0.0   \n",
      "1004355      0.0      0.0      0.0      0.0      0.0      0.0      0.0   \n",
      "1004356      0.0      0.0      0.0      0.0      0.0      0.0      0.0   \n",
      "\n",
      "         1001414  1001416  1001418  ...  1001462  1001464  1001466  1001468  \\\n",
      "1001400      0.0      0.0      0.0  ...      0.0      0.0      0.0      0.0   \n",
      "1001402      0.0      0.0      0.0  ...      0.0      0.0      0.0      0.0   \n",
      "1001404      0.0      0.0      0.0  ...      0.0      0.0      0.0      0.0   \n",
      "1001406      0.0      0.0      0.0  ...      0.0      0.0      0.0      0.0   \n",
      "1001408      0.0      0.0      0.0  ...      0.0      0.0      0.0      0.0   \n",
      "1001410      0.0      0.0      0.0  ...      0.0      0.0      0.0      0.0   \n",
      "1001412     18.2      0.0      0.0  ...      0.0      0.0      0.0      0.0   \n",
      "1001414      0.0     13.2      0.0  ...      0.0      0.0      0.0      0.0   \n",
      "1001416     13.2      0.0     13.6  ...      0.0      0.0      0.0      0.0   \n",
      "1001418      0.0     13.6      0.0  ...      0.0      0.0      0.0      0.0   \n",
      "1001420      0.0      0.0     12.9  ...      0.0      0.0      0.0      0.0   \n",
      "1001422      0.0      0.0      0.0  ...      0.0      0.0      0.0      0.0   \n",
      "1001424      0.0      0.0      0.0  ...      0.0      0.0      0.0      0.0   \n",
      "1001426      0.0      0.0      0.0  ...      0.0      0.0      0.0      0.0   \n",
      "1001428      0.0      0.0      0.0  ...      0.0      0.0      0.0      0.0   \n",
      "1001430      0.0      0.0      0.0  ...      0.0      0.0      0.0      0.0   \n",
      "1001432      0.0      0.0      0.0  ...      0.0      0.0      0.0      0.0   \n",
      "1001434      0.0      0.0      0.0  ...      0.0      0.0      0.0      0.0   \n",
      "1001436      0.0      0.0      0.0  ...      0.0      0.0      0.0      0.0   \n",
      "1001437      0.0      0.0      0.0  ...      0.0      0.0      0.0      0.0   \n",
      "1001438      0.0      0.0      0.0  ...      0.0      0.0      0.0      0.0   \n",
      "1001440      0.0      0.0      0.0  ...      0.0      0.0      0.0      0.0   \n",
      "1001442      0.0      0.0      0.0  ...      0.0      0.0      0.0      0.0   \n",
      "1001444      0.0      0.0      0.0  ...      0.0      0.0      0.0      0.0   \n",
      "1001446      0.0      0.0      0.0  ...      0.0      0.0      0.0      0.0   \n",
      "1001448      0.0      0.0      0.0  ...      0.0      0.0      0.0      0.0   \n",
      "1001450      0.0      0.0      0.0  ...      0.0      0.0      0.0      0.0   \n",
      "1001452      0.0      0.0      0.0  ...      0.0      0.0      0.0      0.0   \n",
      "1001454      0.0      0.0      0.0  ...      0.0      0.0      0.0      0.0   \n",
      "1001456      0.0      0.0      0.0  ...      0.0      0.0      0.0      0.0   \n",
      "1001458      0.0      0.0      0.0  ...      0.0      0.0      0.0      0.0   \n",
      "1001460      0.0      0.0      0.0  ...     17.9      0.0      0.0      0.0   \n",
      "1001461      0.0      0.0      0.0  ...      5.1      0.0      0.0      0.0   \n",
      "1001462      0.0      0.0      0.0  ...      0.0     26.7      0.0      0.0   \n",
      "1001464      0.0      0.0      0.0  ...     26.7      0.0      8.5      0.0   \n",
      "1001466      0.0      0.0      0.0  ...      0.0      8.5      0.0     10.7   \n",
      "1001468      0.0      0.0      0.0  ...      0.0      0.0     10.7      0.0   \n",
      "1001470      0.0      0.0      0.0  ...      0.0      0.0      0.0     10.6   \n",
      "1001472      0.0      0.0      0.0  ...      0.0      0.0      0.0      0.0   \n",
      "1001488      0.0      0.0      0.0  ...      0.0      0.0      0.0      0.0   \n",
      "1004354      0.0      0.0      0.0  ...      0.0      0.0      0.0      0.0   \n",
      "1004355      0.0      0.0      0.0  ...      0.0      0.0      0.0      0.0   \n",
      "1004356      0.0      0.0      0.0  ...      0.0      0.0      0.0      0.0   \n",
      "\n",
      "         1001470  1001472  1001488  1004354  1004355  1004356  \n",
      "1001400      0.0      0.0      0.0      0.0      0.0      0.0  \n",
      "1001402      0.0      0.0      0.0      0.0      0.0      0.0  \n",
      "1001404      0.0      0.0      0.0      0.0      0.0      0.0  \n",
      "1001406      0.0      0.0      0.0      0.0      0.0      0.0  \n",
      "1001408      0.0      0.0      0.0      0.0      0.0      0.0  \n",
      "1001410      0.0      0.0      0.0      0.0      0.0      0.0  \n",
      "1001412      0.0      0.0      0.0      0.0      0.0      0.0  \n",
      "1001414      0.0      0.0      0.0      0.0      0.0      0.0  \n",
      "1001416      0.0      0.0      0.0      0.0      0.0      0.0  \n",
      "1001418      0.0      0.0      0.0      0.0      0.0      0.0  \n",
      "1001420      0.0      0.0      0.0      0.0      0.0      0.0  \n",
      "1001422      0.0      0.0      0.0      0.0      0.0      0.0  \n",
      "1001424      0.0      0.0      0.0      0.0      0.0      0.0  \n",
      "1001426      0.0      0.0      0.0      0.0      0.0      0.0  \n",
      "1001428      0.0      0.0      0.0      0.0      0.0      0.0  \n",
      "1001430      0.0      0.0      0.0      0.0      0.0      0.0  \n",
      "1001432      0.0      0.0      0.0      0.0      0.0      0.0  \n",
      "1001434      0.0      0.0      0.0      0.0      0.0      0.0  \n",
      "1001436      0.0      0.0      0.0      0.0      0.0      0.0  \n",
      "1001437      0.0      NaN      0.0      0.0      0.0      0.0  \n",
      "1001438      0.0      0.0      0.0      0.0      0.0      0.0  \n",
      "1001440      0.0      0.0      0.0      0.0      0.0      0.0  \n",
      "1001442      0.0      0.0      4.5      0.0      0.0      0.0  \n",
      "1001444      0.0      0.0      0.0      0.0      0.7      0.0  \n",
      "1001446      0.0      0.0      0.0      0.0      0.0      0.0  \n",
      "1001448      0.0      0.0      0.0      0.0      0.0      0.0  \n",
      "1001450      0.0      0.0      0.0      0.0      0.0      0.0  \n",
      "1001452      0.0      0.0      0.0      0.0      0.0      0.0  \n",
      "1001454      0.0      0.0      0.0      0.0      0.0      0.0  \n",
      "1001456      0.0      0.0      0.0      0.0      0.0      0.0  \n",
      "1001458      0.0      0.0      0.0      0.0      0.0      0.0  \n",
      "1001460      0.0      0.0      0.0      0.0      0.0      0.0  \n",
      "1001461      0.0      0.0      0.0      0.0      0.0      0.0  \n",
      "1001462      0.0      0.0      0.0      0.0      0.0      0.0  \n",
      "1001464      0.0      0.0      0.0      0.0      0.0      0.0  \n",
      "1001466      0.0      0.0      0.0      0.0      0.0      0.0  \n",
      "1001468     10.6      0.0      0.0      0.0      0.0      0.0  \n",
      "1001470      0.0     16.0      0.0      0.0      0.0      0.0  \n",
      "1001472     16.0      0.0      0.0      0.0      0.0      0.0  \n",
      "1001488      0.0      0.0      0.0      0.0      0.0      4.0  \n",
      "1004354      0.0      0.0      0.0      0.0      2.0      2.0  \n",
      "1004355      0.0      0.0      0.0      2.0      0.0      0.0  \n",
      "1004356      0.0      0.0      4.0      2.0      0.0      0.0  \n",
      "\n",
      "[43 rows x 43 columns]\n"
     ]
    }
   ],
   "source": [
    "distance_matrix = calculate_distance_matrix(data3)\n",
    "print(distance_matrix)"
   ]
  },
  {
   "cell_type": "code",
   "execution_count": 10,
   "id": "e68ff16c",
   "metadata": {},
   "outputs": [],
   "source": [
    "def unroll_distance_matrix(distance_matrix)->pd.DataFrame:\n",
    "    #Reset index to get 'id_start' as a column\n",
    "    distance_matrix = distance_matrix.reset_index()\n",
    "\n",
    "    #Melt the DataFrame to transform it to long format\n",
    "    melted_df = pd.melt(distance_matrix, id_vars='index', var_name='id_end', value_name='distance')\n",
    "\n",
    "    #Rename columns for clarity\n",
    "    melted_df.columns = ['id_start', 'id_end', 'distance']\n",
    "\n",
    "    #Filter out same id_start and id_end pairs\n",
    "    df = melted_df[melted_df['id_start'] != melted_df['id_end']].reset_index(drop=True)\n",
    "\n",
    "    return df\n"
   ]
  },
  {
   "cell_type": "code",
   "execution_count": 11,
   "id": "e89dd337",
   "metadata": {},
   "outputs": [
    {
     "name": "stdout",
     "output_type": "stream",
     "text": [
      "     id_start    id_end   distance\n",
      "0           0  id_start  1001400.0\n",
      "1           1  id_start  1001402.0\n",
      "2           2  id_start  1001404.0\n",
      "3           3  id_start  1001406.0\n",
      "4           4  id_start  1001408.0\n",
      "..        ...       ...        ...\n",
      "127        39  distance       26.7\n",
      "128        40  distance        8.5\n",
      "129        41  distance       10.7\n",
      "130        42  distance       10.6\n",
      "131        43  distance       16.0\n",
      "\n",
      "[132 rows x 3 columns]\n"
     ]
    },
    {
     "name": "stderr",
     "output_type": "stream",
     "text": [
      "C:\\Users\\gauta\\AppData\\Local\\Temp\\ipykernel_13916\\1466578341.py:6: FutureWarning: This dataframe has a column name that matches the 'value_name' column name of the resulting Dataframe. In the future this will raise an error, please set the 'value_name' parameter of DataFrame.melt to a unique name.\n",
      "  melted_df = pd.melt(distance_matrix, id_vars='index', var_name='id_end', value_name='distance')\n"
     ]
    }
   ],
   "source": [
    "unrolled_df = unroll_distance_matrix(data3)\n",
    "print(unrolled_df)"
   ]
  },
  {
   "cell_type": "code",
   "execution_count": 24,
   "id": "28e9b2ce",
   "metadata": {},
   "outputs": [],
   "source": [
    "def find_ids_within_ten_percentage_threshold(df, reference_value)->pd.DataFrame:\n",
    "    #Calculate the average distance for the reference value\n",
    "    avg_distance_reference = df[df['id_start'] == reference_value]['distance'].mean()\n",
    "\n",
    "    #Calculate the threshold range (10% of the average distance)\n",
    "    threshold = 0.1 * avg_distance_reference\n",
    "\n",
    "    #Filter 'id_start' values within the threshold range\n",
    "    within_threshold_ids = df[(df['id_start'] != reference_value) &\n",
    "                              (df['distance'] >= avg_distance_reference - threshold) &\n",
    "                              (df['distance'] <= avg_distance_reference + threshold)]['id_start'].unique()\n",
    "\n",
    "    #Sort the 'id_start' values within the threshold\n",
    "    value = sorted(within_threshold_ids)\n",
    "\n",
    "    return value\n"
   ]
  },
  {
   "cell_type": "code",
   "execution_count": 28,
   "id": "9dfb09c0",
   "metadata": {},
   "outputs": [
    {
     "name": "stdout",
     "output_type": "stream",
     "text": [
      "[]\n"
     ]
    }
   ],
   "source": [
    "result_ids_within_threshold = find_ids_within_ten_percentage_threshold(unrolled_df, 10)\n",
    "print(result_ids_within_threshold)"
   ]
  },
  {
   "cell_type": "code",
   "execution_count": 16,
   "id": "c0053a51",
   "metadata": {},
   "outputs": [],
   "source": [
    "def calculate_toll_rate(df):\n",
    "    #Calculate toll rates based on distance and rate coefficients for each vehicle type\n",
    "    df['moto'] = df['distance'] * 0.8\n",
    "    df['car'] = df['distance'] * 1.2\n",
    "    df['rv'] = df['distance'] * 1.5\n",
    "    df['bus'] = df['distance'] * 2.2\n",
    "    df['truck'] = df['distance'] * 3.6\n",
    "\n",
    "    return df\n"
   ]
  },
  {
   "cell_type": "code",
   "execution_count": 27,
   "id": "0fa410ed",
   "metadata": {},
   "outputs": [
    {
     "name": "stdout",
     "output_type": "stream",
     "text": [
      "     id_start    id_end   distance       moto         car          rv  \\\n",
      "0           0  id_start  1001400.0  801120.00  1201680.00  1502100.00   \n",
      "1           1  id_start  1001402.0  801121.60  1201682.40  1502103.00   \n",
      "2           2  id_start  1001404.0  801123.20  1201684.80  1502106.00   \n",
      "3           3  id_start  1001406.0  801124.80  1201687.20  1502109.00   \n",
      "4           4  id_start  1001408.0  801126.40  1201689.60  1502112.00   \n",
      "..        ...       ...        ...        ...         ...         ...   \n",
      "127        39  distance       26.7      21.36       32.04       40.05   \n",
      "128        40  distance        8.5       6.80       10.20       12.75   \n",
      "129        41  distance       10.7       8.56       12.84       16.05   \n",
      "130        42  distance       10.6       8.48       12.72       15.90   \n",
      "131        43  distance       16.0      12.80       19.20       24.00   \n",
      "\n",
      "            bus       truck  \n",
      "0    2203080.00  3605040.00  \n",
      "1    2203084.40  3605047.20  \n",
      "2    2203088.80  3605054.40  \n",
      "3    2203093.20  3605061.60  \n",
      "4    2203097.60  3605068.80  \n",
      "..          ...         ...  \n",
      "127       58.74       96.12  \n",
      "128       18.70       30.60  \n",
      "129       23.54       38.52  \n",
      "130       23.32       38.16  \n",
      "131       35.20       57.60  \n",
      "\n",
      "[132 rows x 8 columns]\n"
     ]
    }
   ],
   "source": [
    "result_with_toll_rates = calculate_toll_rate(unrolled_df)\n",
    "print(result_with_toll_rates)"
   ]
  },
  {
   "cell_type": "code",
   "execution_count": 32,
   "id": "d657fa5a",
   "metadata": {},
   "outputs": [],
   "source": [
    "import datetime\n",
    "def calculate_time_based_toll_rates(df):\n",
    "    # Convert start and end timestamps to datetime format\n",
    "    df['start_time'] = pd.to_datetime(df['start_time'])\n",
    "    df['end_time'] = pd.to_datetime(df['end_time'])\n",
    "\n",
    "    # Create time range objects for different time intervals\n",
    "    weekdays_morning = (datetime.time(0, 0), datetime.time(10, 0))\n",
    "    weekdays_afternoon = (datetime.time(10, 0), datetime.time(18, 0))\n",
    "    weekdays_evening = (datetime.time(18, 0), datetime.time(23, 59, 59))\n",
    "    weekends_all_day = (datetime.time(0, 0), datetime.time(23, 59, 59))\n",
    "\n",
    "    # Define functions to apply discount factors based on time intervals\n",
    "    def apply_discount(row):\n",
    "        if row['start_time'].weekday() < 5:  # Weekdays (Monday to Friday)\n",
    "            if weekdays_morning[0] <= row['start_time'].time() <= weekdays_morning[1]:\n",
    "                return row * 0.8\n",
    "            elif weekdays_afternoon[0] <= row['start_time'].time() <= weekdays_afternoon[1]:\n",
    "                return row * 1.2\n",
    "            elif weekdays_evening[0] <= row['start_time'].time() <= weekdays_evening[1]:\n",
    "                return row * 0.8\n",
    "        else:  # Weekends (Saturday and Sunday)\n",
    "            return row * 0.7\n",
    "\n",
    "    # Apply discount factors to vehicle columns based on time intervals\n",
    "    vehicle_columns = ['moto', 'car', 'rv', 'bus', 'truck']\n",
    "    for col in vehicle_columns:\n",
    "        df[col] = df[col].apply(apply_discount)\n",
    "\n",
    "    # Add columns for start_day and end_day\n",
    "    df['start_day'] = df['start_time'].dt.day_name()\n",
    "    df['end_day'] = df['end_time'].dt.day_name()\n",
    "\n",
    "    return df\n"
   ]
  },
  {
   "cell_type": "code",
   "execution_count": 33,
   "id": "257b0fe4",
   "metadata": {},
   "outputs": [
    {
     "ename": "TypeError",
     "evalue": "list indices must be integers or slices, not str",
     "output_type": "error",
     "traceback": [
      "\u001b[1;31m---------------------------------------------------------------------------\u001b[0m",
      "\u001b[1;31mTypeError\u001b[0m                                 Traceback (most recent call last)",
      "Input \u001b[1;32mIn [33]\u001b[0m, in \u001b[0;36m<cell line: 2>\u001b[1;34m()\u001b[0m\n\u001b[0;32m      1\u001b[0m \u001b[38;5;66;03m# Assuming 'time_based_toll_df' is the DataFrame from Question 3\u001b[39;00m\n\u001b[1;32m----> 2\u001b[0m result_with_time_based_toll_rates \u001b[38;5;241m=\u001b[39m \u001b[43mcalculate_time_based_toll_rates\u001b[49m\u001b[43m(\u001b[49m\u001b[43mresult_ids_within_threshold\u001b[49m\u001b[43m)\u001b[49m\n\u001b[0;32m      3\u001b[0m \u001b[38;5;28mprint\u001b[39m(result_with_time_based_toll_rates)\n",
      "Input \u001b[1;32mIn [32]\u001b[0m, in \u001b[0;36mcalculate_time_based_toll_rates\u001b[1;34m(df)\u001b[0m\n\u001b[0;32m      2\u001b[0m \u001b[38;5;28;01mdef\u001b[39;00m \u001b[38;5;21mcalculate_time_based_toll_rates\u001b[39m(df):\n\u001b[0;32m      3\u001b[0m     \u001b[38;5;66;03m# Convert start and end timestamps to datetime format\u001b[39;00m\n\u001b[1;32m----> 4\u001b[0m     df[\u001b[38;5;124m'\u001b[39m\u001b[38;5;124mstart_time\u001b[39m\u001b[38;5;124m'\u001b[39m] \u001b[38;5;241m=\u001b[39m pd\u001b[38;5;241m.\u001b[39mto_datetime(df[\u001b[43mdf\u001b[49m\u001b[43m[\u001b[49m\u001b[38;5;124;43m'\u001b[39;49m\u001b[38;5;124;43mstart_time\u001b[39;49m\u001b[38;5;124;43m'\u001b[39;49m\u001b[43m]\u001b[49m])\n\u001b[0;32m      5\u001b[0m     df[\u001b[38;5;124m'\u001b[39m\u001b[38;5;124mend_time\u001b[39m\u001b[38;5;124m'\u001b[39m] \u001b[38;5;241m=\u001b[39m pd\u001b[38;5;241m.\u001b[39mto_datetime(df[\u001b[38;5;124m'\u001b[39m\u001b[38;5;124mend_time\u001b[39m\u001b[38;5;124m'\u001b[39m])\n\u001b[0;32m      7\u001b[0m     \u001b[38;5;66;03m# Create time range objects for different time intervals\u001b[39;00m\n",
      "\u001b[1;31mTypeError\u001b[0m: list indices must be integers or slices, not str"
     ]
    }
   ],
   "source": [
    "# Assuming 'time_based_toll_df' is the DataFrame from Question 3\n",
    "result_with_time_based_toll_rates = calculate_time_based_toll_rates(result_ids_within_threshold)\n",
    "print(result_with_time_based_toll_rates)"
   ]
  },
  {
   "cell_type": "code",
   "execution_count": null,
   "id": "bc473469",
   "metadata": {},
   "outputs": [],
   "source": []
  }
 ],
 "metadata": {
  "kernelspec": {
   "display_name": "Python 3 (ipykernel)",
   "language": "python",
   "name": "python3"
  },
  "language_info": {
   "codemirror_mode": {
    "name": "ipython",
    "version": 3
   },
   "file_extension": ".py",
   "mimetype": "text/x-python",
   "name": "python",
   "nbconvert_exporter": "python",
   "pygments_lexer": "ipython3",
   "version": "3.10.6"
  }
 },
 "nbformat": 4,
 "nbformat_minor": 5
}
